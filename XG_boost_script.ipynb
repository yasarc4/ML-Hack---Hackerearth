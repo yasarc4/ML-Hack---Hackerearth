{
 "cells": [
  {
   "cell_type": "code",
   "execution_count": 1,
   "metadata": {},
   "outputs": [
    {
     "name": "stderr",
     "output_type": "stream",
     "text": [
      "/usr/local/lib/python2.7/dist-packages/sklearn/cross_validation.py:44: DeprecationWarning: This module was deprecated in version 0.18 in favor of the model_selection module into which all the refactored classes and functions are moved. Also note that the interface of the new CV iterators are different from that of this module. This module will be removed in 0.20.\n",
      "  \"This module will be removed in 0.20.\", DeprecationWarning)\n"
     ]
    }
   ],
   "source": [
    "import pandas as pd\n",
    "import numpy as np\n",
    "import re\n",
    "import datetime\n",
    "from nltk.corpus import stopwords\n",
    "from sklearn.preprocessing import LabelEncoder\n",
    "from nltk.stem.snowball import SnowballStemmer\n",
    "from sklearn.feature_extraction.text import CountVectorizer\n",
    "import xgboost as xgb"
   ]
  },
  {
   "cell_type": "code",
   "execution_count": 2,
   "metadata": {
    "collapsed": true
   },
   "outputs": [],
   "source": [
    "train = pd.read_csv('train.csv')\n",
    "test = pd.read_csv('test.csv')"
   ]
  },
  {
   "cell_type": "code",
   "execution_count": 3,
   "metadata": {},
   "outputs": [
    {
     "data": {
      "text/plain": [
       "(108129, 14)"
      ]
     },
     "execution_count": 3,
     "metadata": {},
     "output_type": "execute_result"
    }
   ],
   "source": [
    "train.shape"
   ]
  },
  {
   "cell_type": "code",
   "execution_count": 4,
   "metadata": {},
   "outputs": [
    {
     "data": {
      "text/plain": [
       "(63465, 12)"
      ]
     },
     "execution_count": 4,
     "metadata": {},
     "output_type": "execute_result"
    }
   ],
   "source": [
    "test.shape"
   ]
  },
  {
   "cell_type": "code",
   "execution_count": 5,
   "metadata": {
    "collapsed": true
   },
   "outputs": [],
   "source": [
    "def add_date_fields(df, date_col):\n",
    "    df[date_col] = pd.to_datetime(df[date_col],unit='s')\n",
    "    df[date_col+'_month'] = df[date_col].apply(lambda x: x.strftime('%B'))\n",
    "    df[date_col+'_week'] = df[date_col].apply(lambda x: str(x.strftime('%w')))\n",
    "    df[date_col+'_day'] = df[date_col].apply(lambda x: str(x.isocalendar()[2]))\n",
    "    return df\n",
    "    "
   ]
  },
  {
   "cell_type": "code",
   "execution_count": 6,
   "metadata": {
    "collapsed": true
   },
   "outputs": [],
   "source": [
    "unix_cols = ['deadline','state_changed_at','launched_at','created_at']\n",
    "\n",
    "for x in unix_cols:\n",
    "    train = add_date_fields(train, x)\n",
    "    test = add_date_fields(test, x)\n",
    "    "
   ]
  },
  {
   "cell_type": "code",
   "execution_count": 7,
   "metadata": {},
   "outputs": [
    {
     "data": {
      "text/html": [
       "<div>\n",
       "<style>\n",
       "    .dataframe thead tr:only-child th {\n",
       "        text-align: right;\n",
       "    }\n",
       "\n",
       "    .dataframe thead th {\n",
       "        text-align: left;\n",
       "    }\n",
       "\n",
       "    .dataframe tbody tr th {\n",
       "        vertical-align: top;\n",
       "    }\n",
       "</style>\n",
       "<table border=\"1\" class=\"dataframe\">\n",
       "  <thead>\n",
       "    <tr style=\"text-align: right;\">\n",
       "      <th></th>\n",
       "      <th>project_id</th>\n",
       "      <th>name</th>\n",
       "      <th>desc</th>\n",
       "      <th>goal</th>\n",
       "      <th>keywords</th>\n",
       "      <th>disable_communication</th>\n",
       "      <th>country</th>\n",
       "      <th>currency</th>\n",
       "      <th>deadline</th>\n",
       "      <th>state_changed_at</th>\n",
       "      <th>...</th>\n",
       "      <th>deadline_day</th>\n",
       "      <th>state_changed_at_month</th>\n",
       "      <th>state_changed_at_week</th>\n",
       "      <th>state_changed_at_day</th>\n",
       "      <th>launched_at_month</th>\n",
       "      <th>launched_at_week</th>\n",
       "      <th>launched_at_day</th>\n",
       "      <th>created_at_month</th>\n",
       "      <th>created_at_week</th>\n",
       "      <th>created_at_day</th>\n",
       "    </tr>\n",
       "  </thead>\n",
       "  <tbody>\n",
       "    <tr>\n",
       "      <th>0</th>\n",
       "      <td>kkst1451568084</td>\n",
       "      <td>drawing for dollars</td>\n",
       "      <td>I like drawing pictures. and then i color them...</td>\n",
       "      <td>20.0</td>\n",
       "      <td>drawing-for-dollars</td>\n",
       "      <td>False</td>\n",
       "      <td>US</td>\n",
       "      <td>USD</td>\n",
       "      <td>2009-05-03 06:59:59</td>\n",
       "      <td>2009-05-03 07:00:17</td>\n",
       "      <td>...</td>\n",
       "      <td>7</td>\n",
       "      <td>May</td>\n",
       "      <td>0</td>\n",
       "      <td>7</td>\n",
       "      <td>April</td>\n",
       "      <td>5</td>\n",
       "      <td>5</td>\n",
       "      <td>April</td>\n",
       "      <td>5</td>\n",
       "      <td>5</td>\n",
       "    </tr>\n",
       "    <tr>\n",
       "      <th>1</th>\n",
       "      <td>kkst1474482071</td>\n",
       "      <td>Sponsor Dereck Blackburn (Lostwars) Artist in ...</td>\n",
       "      <td>I, Dereck Blackburn will be taking upon an inc...</td>\n",
       "      <td>300.0</td>\n",
       "      <td>sponsor-dereck-blackburn-lostwars-artist-in-re...</td>\n",
       "      <td>False</td>\n",
       "      <td>US</td>\n",
       "      <td>USD</td>\n",
       "      <td>2009-05-15 23:10:00</td>\n",
       "      <td>2009-05-16 00:00:18</td>\n",
       "      <td>...</td>\n",
       "      <td>5</td>\n",
       "      <td>May</td>\n",
       "      <td>6</td>\n",
       "      <td>6</td>\n",
       "      <td>April</td>\n",
       "      <td>3</td>\n",
       "      <td>3</td>\n",
       "      <td>April</td>\n",
       "      <td>2</td>\n",
       "      <td>2</td>\n",
       "    </tr>\n",
       "    <tr>\n",
       "      <th>2</th>\n",
       "      <td>kkst183622197</td>\n",
       "      <td>Mr. Squiggles</td>\n",
       "      <td>So I saw darkpony's successfully funded drawin...</td>\n",
       "      <td>30.0</td>\n",
       "      <td>mr-squiggles</td>\n",
       "      <td>False</td>\n",
       "      <td>US</td>\n",
       "      <td>USD</td>\n",
       "      <td>2009-05-22 21:26:00</td>\n",
       "      <td>2009-05-22 21:30:18</td>\n",
       "      <td>...</td>\n",
       "      <td>5</td>\n",
       "      <td>May</td>\n",
       "      <td>5</td>\n",
       "      <td>5</td>\n",
       "      <td>May</td>\n",
       "      <td>2</td>\n",
       "      <td>2</td>\n",
       "      <td>May</td>\n",
       "      <td>2</td>\n",
       "      <td>2</td>\n",
       "    </tr>\n",
       "    <tr>\n",
       "      <th>3</th>\n",
       "      <td>kkst597742710</td>\n",
       "      <td>Help me write my second novel.</td>\n",
       "      <td>Do your part to help out starving artists and ...</td>\n",
       "      <td>500.0</td>\n",
       "      <td>help-me-write-my-second-novel</td>\n",
       "      <td>False</td>\n",
       "      <td>US</td>\n",
       "      <td>USD</td>\n",
       "      <td>2009-05-29 00:09:00</td>\n",
       "      <td>2009-05-29 00:15:21</td>\n",
       "      <td>...</td>\n",
       "      <td>5</td>\n",
       "      <td>May</td>\n",
       "      <td>5</td>\n",
       "      <td>5</td>\n",
       "      <td>April</td>\n",
       "      <td>3</td>\n",
       "      <td>3</td>\n",
       "      <td>April</td>\n",
       "      <td>3</td>\n",
       "      <td>3</td>\n",
       "    </tr>\n",
       "    <tr>\n",
       "      <th>4</th>\n",
       "      <td>kkst1913131122</td>\n",
       "      <td>Support casting my sculpture in bronze</td>\n",
       "      <td>I'm nearing completion on a sculpture, current...</td>\n",
       "      <td>2000.0</td>\n",
       "      <td>support-casting-my-sculpture-in-bronze</td>\n",
       "      <td>False</td>\n",
       "      <td>US</td>\n",
       "      <td>USD</td>\n",
       "      <td>2009-05-31 11:38:00</td>\n",
       "      <td>2009-05-31 11:45:17</td>\n",
       "      <td>...</td>\n",
       "      <td>7</td>\n",
       "      <td>May</td>\n",
       "      <td>0</td>\n",
       "      <td>7</td>\n",
       "      <td>May</td>\n",
       "      <td>5</td>\n",
       "      <td>5</td>\n",
       "      <td>May</td>\n",
       "      <td>5</td>\n",
       "      <td>5</td>\n",
       "    </tr>\n",
       "  </tbody>\n",
       "</table>\n",
       "<p>5 rows × 26 columns</p>\n",
       "</div>"
      ],
      "text/plain": [
       "       project_id                                               name  \\\n",
       "0  kkst1451568084                                drawing for dollars   \n",
       "1  kkst1474482071  Sponsor Dereck Blackburn (Lostwars) Artist in ...   \n",
       "2   kkst183622197                                      Mr. Squiggles   \n",
       "3   kkst597742710                     Help me write my second novel.   \n",
       "4  kkst1913131122             Support casting my sculpture in bronze   \n",
       "\n",
       "                                                desc    goal  \\\n",
       "0  I like drawing pictures. and then i color them...    20.0   \n",
       "1  I, Dereck Blackburn will be taking upon an inc...   300.0   \n",
       "2  So I saw darkpony's successfully funded drawin...    30.0   \n",
       "3  Do your part to help out starving artists and ...   500.0   \n",
       "4  I'm nearing completion on a sculpture, current...  2000.0   \n",
       "\n",
       "                                            keywords  disable_communication  \\\n",
       "0                                drawing-for-dollars                  False   \n",
       "1  sponsor-dereck-blackburn-lostwars-artist-in-re...                  False   \n",
       "2                                       mr-squiggles                  False   \n",
       "3                      help-me-write-my-second-novel                  False   \n",
       "4             support-casting-my-sculpture-in-bronze                  False   \n",
       "\n",
       "  country currency            deadline    state_changed_at      ...        \\\n",
       "0      US      USD 2009-05-03 06:59:59 2009-05-03 07:00:17      ...         \n",
       "1      US      USD 2009-05-15 23:10:00 2009-05-16 00:00:18      ...         \n",
       "2      US      USD 2009-05-22 21:26:00 2009-05-22 21:30:18      ...         \n",
       "3      US      USD 2009-05-29 00:09:00 2009-05-29 00:15:21      ...         \n",
       "4      US      USD 2009-05-31 11:38:00 2009-05-31 11:45:17      ...         \n",
       "\n",
       "  deadline_day state_changed_at_month  state_changed_at_week  \\\n",
       "0            7                    May                      0   \n",
       "1            5                    May                      6   \n",
       "2            5                    May                      5   \n",
       "3            5                    May                      5   \n",
       "4            7                    May                      0   \n",
       "\n",
       "   state_changed_at_day launched_at_month launched_at_week launched_at_day  \\\n",
       "0                     7             April                5               5   \n",
       "1                     6             April                3               3   \n",
       "2                     5               May                2               2   \n",
       "3                     5             April                3               3   \n",
       "4                     7               May                5               5   \n",
       "\n",
       "  created_at_month created_at_week created_at_day  \n",
       "0            April               5              5  \n",
       "1            April               2              2  \n",
       "2              May               2              2  \n",
       "3            April               3              3  \n",
       "4              May               5              5  \n",
       "\n",
       "[5 rows x 26 columns]"
      ]
     },
     "execution_count": 7,
     "metadata": {},
     "output_type": "execute_result"
    }
   ],
   "source": [
    "train.head()"
   ]
  },
  {
   "cell_type": "code",
   "execution_count": 8,
   "metadata": {
    "collapsed": true
   },
   "outputs": [],
   "source": [
    "def generate_date_features(df, datecols):\n",
    "    feature_num = 0\n",
    "    for i in range(len(datecols)-1):\n",
    "        for j in range(i+1, len(datecols)):\n",
    "            df['time_diff_feature'+str(feature_num)] = (df[datecols[i]] - df[datecols[j]])\n",
    "            df['time_diff_feature'+str(feature_num)] = df['time_diff_feature'+str(feature_num)].apply(lambda x: x.total_seconds()/86400)\n",
    "            feature_num = feature_num + 1\n",
    "    return df"
   ]
  },
  {
   "cell_type": "code",
   "execution_count": 9,
   "metadata": {
    "collapsed": true
   },
   "outputs": [],
   "source": [
    "train = generate_date_features(train, unix_cols)\n",
    "test = generate_date_features(test, unix_cols)"
   ]
  },
  {
   "cell_type": "code",
   "execution_count": 10,
   "metadata": {},
   "outputs": [
    {
     "name": "stderr",
     "output_type": "stream",
     "text": [
      "/usr/local/lib/python2.7/dist-packages/ipykernel_launcher.py:1: DeprecationWarning: \n",
      ".ix is deprecated. Please use\n",
      ".loc for label based indexing or\n",
      ".iloc for positional indexing\n",
      "\n",
      "See the documentation here:\n",
      "http://pandas.pydata.org/pandas-docs/stable/indexing.html#deprecate_ix\n",
      "  \"\"\"Entry point for launching an IPython kernel.\n"
     ]
    },
    {
     "data": {
      "text/html": [
       "<div>\n",
       "<style>\n",
       "    .dataframe thead tr:only-child th {\n",
       "        text-align: right;\n",
       "    }\n",
       "\n",
       "    .dataframe thead th {\n",
       "        text-align: left;\n",
       "    }\n",
       "\n",
       "    .dataframe tbody tr th {\n",
       "        vertical-align: top;\n",
       "    }\n",
       "</style>\n",
       "<table border=\"1\" class=\"dataframe\">\n",
       "  <thead>\n",
       "    <tr style=\"text-align: right;\">\n",
       "      <th></th>\n",
       "      <th>project_id</th>\n",
       "      <th>name</th>\n",
       "      <th>desc</th>\n",
       "      <th>goal</th>\n",
       "      <th>keywords</th>\n",
       "      <th>disable_communication</th>\n",
       "      <th>country</th>\n",
       "      <th>currency</th>\n",
       "      <th>deadline</th>\n",
       "      <th>state_changed_at</th>\n",
       "      <th>...</th>\n",
       "      <th>launched_at_day</th>\n",
       "      <th>created_at_month</th>\n",
       "      <th>created_at_week</th>\n",
       "      <th>created_at_day</th>\n",
       "      <th>time_diff_feature0</th>\n",
       "      <th>time_diff_feature1</th>\n",
       "      <th>time_diff_feature2</th>\n",
       "      <th>time_diff_feature3</th>\n",
       "      <th>time_diff_feature4</th>\n",
       "      <th>time_diff_feature5</th>\n",
       "    </tr>\n",
       "  </thead>\n",
       "  <tbody>\n",
       "    <tr>\n",
       "      <th>0</th>\n",
       "      <td>kkst1451568084</td>\n",
       "      <td>drawing for dollars</td>\n",
       "      <td>I like drawing pictures. and then i color them...</td>\n",
       "      <td>20.0</td>\n",
       "      <td>drawing-for-dollars</td>\n",
       "      <td>False</td>\n",
       "      <td>US</td>\n",
       "      <td>USD</td>\n",
       "      <td>2009-05-03 06:59:59</td>\n",
       "      <td>2009-05-03 07:00:17</td>\n",
       "      <td>...</td>\n",
       "      <td>5</td>\n",
       "      <td>April</td>\n",
       "      <td>5</td>\n",
       "      <td>5</td>\n",
       "      <td>-0.000208</td>\n",
       "      <td>8.463843</td>\n",
       "      <td>8.489491</td>\n",
       "      <td>8.464051</td>\n",
       "      <td>8.489699</td>\n",
       "      <td>0.025648</td>\n",
       "    </tr>\n",
       "    <tr>\n",
       "      <th>1</th>\n",
       "      <td>kkst1474482071</td>\n",
       "      <td>Sponsor Dereck Blackburn (Lostwars) Artist in ...</td>\n",
       "      <td>I, Dereck Blackburn will be taking upon an inc...</td>\n",
       "      <td>300.0</td>\n",
       "      <td>sponsor-dereck-blackburn-lostwars-artist-in-re...</td>\n",
       "      <td>False</td>\n",
       "      <td>US</td>\n",
       "      <td>USD</td>\n",
       "      <td>2009-05-15 23:10:00</td>\n",
       "      <td>2009-05-16 00:00:18</td>\n",
       "      <td>...</td>\n",
       "      <td>3</td>\n",
       "      <td>April</td>\n",
       "      <td>2</td>\n",
       "      <td>2</td>\n",
       "      <td>-0.034931</td>\n",
       "      <td>16.821852</td>\n",
       "      <td>16.999722</td>\n",
       "      <td>16.856782</td>\n",
       "      <td>17.034653</td>\n",
       "      <td>0.177870</td>\n",
       "    </tr>\n",
       "    <tr>\n",
       "      <th>2</th>\n",
       "      <td>kkst183622197</td>\n",
       "      <td>Mr. Squiggles</td>\n",
       "      <td>So I saw darkpony's successfully funded drawin...</td>\n",
       "      <td>30.0</td>\n",
       "      <td>mr-squiggles</td>\n",
       "      <td>False</td>\n",
       "      <td>US</td>\n",
       "      <td>USD</td>\n",
       "      <td>2009-05-22 21:26:00</td>\n",
       "      <td>2009-05-22 21:30:18</td>\n",
       "      <td>...</td>\n",
       "      <td>2</td>\n",
       "      <td>May</td>\n",
       "      <td>2</td>\n",
       "      <td>2</td>\n",
       "      <td>-0.002986</td>\n",
       "      <td>9.990301</td>\n",
       "      <td>9.999387</td>\n",
       "      <td>9.993287</td>\n",
       "      <td>10.002373</td>\n",
       "      <td>0.009086</td>\n",
       "    </tr>\n",
       "    <tr>\n",
       "      <th>3</th>\n",
       "      <td>kkst597742710</td>\n",
       "      <td>Help me write my second novel.</td>\n",
       "      <td>Do your part to help out starving artists and ...</td>\n",
       "      <td>500.0</td>\n",
       "      <td>help-me-write-my-second-novel</td>\n",
       "      <td>False</td>\n",
       "      <td>US</td>\n",
       "      <td>USD</td>\n",
       "      <td>2009-05-29 00:09:00</td>\n",
       "      <td>2009-05-29 00:15:21</td>\n",
       "      <td>...</td>\n",
       "      <td>3</td>\n",
       "      <td>April</td>\n",
       "      <td>3</td>\n",
       "      <td>3</td>\n",
       "      <td>-0.004410</td>\n",
       "      <td>29.965394</td>\n",
       "      <td>29.999363</td>\n",
       "      <td>29.969803</td>\n",
       "      <td>30.003773</td>\n",
       "      <td>0.033970</td>\n",
       "    </tr>\n",
       "    <tr>\n",
       "      <th>4</th>\n",
       "      <td>kkst1913131122</td>\n",
       "      <td>Support casting my sculpture in bronze</td>\n",
       "      <td>I'm nearing completion on a sculpture, current...</td>\n",
       "      <td>2000.0</td>\n",
       "      <td>support-casting-my-sculpture-in-bronze</td>\n",
       "      <td>False</td>\n",
       "      <td>US</td>\n",
       "      <td>USD</td>\n",
       "      <td>2009-05-31 11:38:00</td>\n",
       "      <td>2009-05-31 11:45:17</td>\n",
       "      <td>...</td>\n",
       "      <td>5</td>\n",
       "      <td>May</td>\n",
       "      <td>5</td>\n",
       "      <td>5</td>\n",
       "      <td>-0.005058</td>\n",
       "      <td>29.969201</td>\n",
       "      <td>29.999606</td>\n",
       "      <td>29.974259</td>\n",
       "      <td>30.004664</td>\n",
       "      <td>0.030405</td>\n",
       "    </tr>\n",
       "    <tr>\n",
       "      <th>5</th>\n",
       "      <td>kkst1085176748</td>\n",
       "      <td>daily digest</td>\n",
       "      <td>I'm a fledgling videoblogger living in Brookly...</td>\n",
       "      <td>700.0</td>\n",
       "      <td>daily-digest</td>\n",
       "      <td>False</td>\n",
       "      <td>US</td>\n",
       "      <td>USD</td>\n",
       "      <td>2009-06-01 00:20:00</td>\n",
       "      <td>2009-06-01 00:30:19</td>\n",
       "      <td>...</td>\n",
       "      <td>1</td>\n",
       "      <td>April</td>\n",
       "      <td>4</td>\n",
       "      <td>4</td>\n",
       "      <td>-0.007164</td>\n",
       "      <td>27.212176</td>\n",
       "      <td>32.000012</td>\n",
       "      <td>27.219340</td>\n",
       "      <td>32.007176</td>\n",
       "      <td>4.787836</td>\n",
       "    </tr>\n",
       "    <tr>\n",
       "      <th>6</th>\n",
       "      <td>kkst1468954715</td>\n",
       "      <td>iGoozex - Free iPhone app</td>\n",
       "      <td>I am an independent iPhone developer that beli...</td>\n",
       "      <td>250.0</td>\n",
       "      <td>igoozex-free-iphone-app</td>\n",
       "      <td>False</td>\n",
       "      <td>US</td>\n",
       "      <td>USD</td>\n",
       "      <td>2009-06-01 16:00:00</td>\n",
       "      <td>2009-06-01 16:00:28</td>\n",
       "      <td>...</td>\n",
       "      <td>4</td>\n",
       "      <td>May</td>\n",
       "      <td>4</td>\n",
       "      <td>4</td>\n",
       "      <td>-0.000324</td>\n",
       "      <td>24.718657</td>\n",
       "      <td>24.847546</td>\n",
       "      <td>24.718981</td>\n",
       "      <td>24.847870</td>\n",
       "      <td>0.128889</td>\n",
       "    </tr>\n",
       "    <tr>\n",
       "      <th>7</th>\n",
       "      <td>kkst194050612</td>\n",
       "      <td>Drive A Faster Car 2.0</td>\n",
       "      <td>Drive A Faster Car (http://www.driveafastercar...</td>\n",
       "      <td>1000.0</td>\n",
       "      <td>drive-a-faster-car-20</td>\n",
       "      <td>False</td>\n",
       "      <td>US</td>\n",
       "      <td>USD</td>\n",
       "      <td>2009-06-04 04:00:00</td>\n",
       "      <td>2009-06-04 04:00:22</td>\n",
       "      <td>...</td>\n",
       "      <td>1</td>\n",
       "      <td>May</td>\n",
       "      <td>1</td>\n",
       "      <td>1</td>\n",
       "      <td>-0.000255</td>\n",
       "      <td>30.297558</td>\n",
       "      <td>30.410405</td>\n",
       "      <td>30.297812</td>\n",
       "      <td>30.410660</td>\n",
       "      <td>0.112847</td>\n",
       "    </tr>\n",
       "    <tr>\n",
       "      <th>8</th>\n",
       "      <td>kkst708883590</td>\n",
       "      <td>\"\"\"\"\"\"\"\"\"\"\"\"\"\"\"\"\"\"\"\"\"\"\"\"\"\"\"\"\"\"\"\"\"\"\"\"\"\"\"\"\"\"\"\"\"\"...</td>\n",
       "      <td>Opening Friday, June 5 2009, on view through S...</td>\n",
       "      <td>5000.0</td>\n",
       "      <td>lostles-at-tinys-giant</td>\n",
       "      <td>False</td>\n",
       "      <td>US</td>\n",
       "      <td>USD</td>\n",
       "      <td>2009-06-06 05:00:00</td>\n",
       "      <td>2009-06-06 05:00:22</td>\n",
       "      <td>...</td>\n",
       "      <td>1</td>\n",
       "      <td>May</td>\n",
       "      <td>1</td>\n",
       "      <td>1</td>\n",
       "      <td>-0.000255</td>\n",
       "      <td>32.216424</td>\n",
       "      <td>32.977269</td>\n",
       "      <td>32.216678</td>\n",
       "      <td>32.977523</td>\n",
       "      <td>0.760845</td>\n",
       "    </tr>\n",
       "    <tr>\n",
       "      <th>9</th>\n",
       "      <td>kkst890976740</td>\n",
       "      <td>Choose Your Own Adventure - A Robot Painting S...</td>\n",
       "      <td>This project is for a Choose Your Own Adventur...</td>\n",
       "      <td>3500.0</td>\n",
       "      <td>choose-your-own-adventure-a-robot-painting-series</td>\n",
       "      <td>False</td>\n",
       "      <td>US</td>\n",
       "      <td>USD</td>\n",
       "      <td>2009-06-14 02:29:00</td>\n",
       "      <td>2009-06-14 02:30:32</td>\n",
       "      <td>...</td>\n",
       "      <td>4</td>\n",
       "      <td>May</td>\n",
       "      <td>4</td>\n",
       "      <td>4</td>\n",
       "      <td>-0.001065</td>\n",
       "      <td>30.938426</td>\n",
       "      <td>30.999803</td>\n",
       "      <td>30.939491</td>\n",
       "      <td>31.000868</td>\n",
       "      <td>0.061377</td>\n",
       "    </tr>\n",
       "    <tr>\n",
       "      <th>10</th>\n",
       "      <td>kkst2053381363</td>\n",
       "      <td>Anatomy of a Credibility Meltdown — a book abo...</td>\n",
       "      <td>I am an independent PR practitioner with a lon...</td>\n",
       "      <td>30000.0</td>\n",
       "      <td>anatomy-of-a-credibility-meltdown-a-book-about...</td>\n",
       "      <td>False</td>\n",
       "      <td>US</td>\n",
       "      <td>USD</td>\n",
       "      <td>2009-06-15 00:36:00</td>\n",
       "      <td>2009-06-15 00:45:21</td>\n",
       "      <td>...</td>\n",
       "      <td>1</td>\n",
       "      <td>May</td>\n",
       "      <td>6</td>\n",
       "      <td>6</td>\n",
       "      <td>-0.006493</td>\n",
       "      <td>34.375764</td>\n",
       "      <td>36.999815</td>\n",
       "      <td>34.382257</td>\n",
       "      <td>37.006308</td>\n",
       "      <td>2.624051</td>\n",
       "    </tr>\n",
       "  </tbody>\n",
       "</table>\n",
       "<p>11 rows × 32 columns</p>\n",
       "</div>"
      ],
      "text/plain": [
       "        project_id                                               name  \\\n",
       "0   kkst1451568084                                drawing for dollars   \n",
       "1   kkst1474482071  Sponsor Dereck Blackburn (Lostwars) Artist in ...   \n",
       "2    kkst183622197                                      Mr. Squiggles   \n",
       "3    kkst597742710                     Help me write my second novel.   \n",
       "4   kkst1913131122             Support casting my sculpture in bronze   \n",
       "5   kkst1085176748                                       daily digest   \n",
       "6   kkst1468954715                          iGoozex - Free iPhone app   \n",
       "7    kkst194050612                             Drive A Faster Car 2.0   \n",
       "8    kkst708883590  \"\"\"\"\"\"\"\"\"\"\"\"\"\"\"\"\"\"\"\"\"\"\"\"\"\"\"\"\"\"\"\"\"\"\"\"\"\"\"\"\"\"\"\"\"\"...   \n",
       "9    kkst890976740  Choose Your Own Adventure - A Robot Painting S...   \n",
       "10  kkst2053381363  Anatomy of a Credibility Meltdown — a book abo...   \n",
       "\n",
       "                                                 desc     goal  \\\n",
       "0   I like drawing pictures. and then i color them...     20.0   \n",
       "1   I, Dereck Blackburn will be taking upon an inc...    300.0   \n",
       "2   So I saw darkpony's successfully funded drawin...     30.0   \n",
       "3   Do your part to help out starving artists and ...    500.0   \n",
       "4   I'm nearing completion on a sculpture, current...   2000.0   \n",
       "5   I'm a fledgling videoblogger living in Brookly...    700.0   \n",
       "6   I am an independent iPhone developer that beli...    250.0   \n",
       "7   Drive A Faster Car (http://www.driveafastercar...   1000.0   \n",
       "8   Opening Friday, June 5 2009, on view through S...   5000.0   \n",
       "9   This project is for a Choose Your Own Adventur...   3500.0   \n",
       "10  I am an independent PR practitioner with a lon...  30000.0   \n",
       "\n",
       "                                             keywords  disable_communication  \\\n",
       "0                                 drawing-for-dollars                  False   \n",
       "1   sponsor-dereck-blackburn-lostwars-artist-in-re...                  False   \n",
       "2                                        mr-squiggles                  False   \n",
       "3                       help-me-write-my-second-novel                  False   \n",
       "4              support-casting-my-sculpture-in-bronze                  False   \n",
       "5                                        daily-digest                  False   \n",
       "6                             igoozex-free-iphone-app                  False   \n",
       "7                               drive-a-faster-car-20                  False   \n",
       "8                              lostles-at-tinys-giant                  False   \n",
       "9   choose-your-own-adventure-a-robot-painting-series                  False   \n",
       "10  anatomy-of-a-credibility-meltdown-a-book-about...                  False   \n",
       "\n",
       "   country currency            deadline    state_changed_at  \\\n",
       "0       US      USD 2009-05-03 06:59:59 2009-05-03 07:00:17   \n",
       "1       US      USD 2009-05-15 23:10:00 2009-05-16 00:00:18   \n",
       "2       US      USD 2009-05-22 21:26:00 2009-05-22 21:30:18   \n",
       "3       US      USD 2009-05-29 00:09:00 2009-05-29 00:15:21   \n",
       "4       US      USD 2009-05-31 11:38:00 2009-05-31 11:45:17   \n",
       "5       US      USD 2009-06-01 00:20:00 2009-06-01 00:30:19   \n",
       "6       US      USD 2009-06-01 16:00:00 2009-06-01 16:00:28   \n",
       "7       US      USD 2009-06-04 04:00:00 2009-06-04 04:00:22   \n",
       "8       US      USD 2009-06-06 05:00:00 2009-06-06 05:00:22   \n",
       "9       US      USD 2009-06-14 02:29:00 2009-06-14 02:30:32   \n",
       "10      US      USD 2009-06-15 00:36:00 2009-06-15 00:45:21   \n",
       "\n",
       "          ...         launched_at_day created_at_month  created_at_week  \\\n",
       "0         ...                       5            April                5   \n",
       "1         ...                       3            April                2   \n",
       "2         ...                       2              May                2   \n",
       "3         ...                       3            April                3   \n",
       "4         ...                       5              May                5   \n",
       "5         ...                       1            April                4   \n",
       "6         ...                       4              May                4   \n",
       "7         ...                       1              May                1   \n",
       "8         ...                       1              May                1   \n",
       "9         ...                       4              May                4   \n",
       "10        ...                       1              May                6   \n",
       "\n",
       "    created_at_day time_diff_feature0 time_diff_feature1 time_diff_feature2  \\\n",
       "0                5          -0.000208           8.463843           8.489491   \n",
       "1                2          -0.034931          16.821852          16.999722   \n",
       "2                2          -0.002986           9.990301           9.999387   \n",
       "3                3          -0.004410          29.965394          29.999363   \n",
       "4                5          -0.005058          29.969201          29.999606   \n",
       "5                4          -0.007164          27.212176          32.000012   \n",
       "6                4          -0.000324          24.718657          24.847546   \n",
       "7                1          -0.000255          30.297558          30.410405   \n",
       "8                1          -0.000255          32.216424          32.977269   \n",
       "9                4          -0.001065          30.938426          30.999803   \n",
       "10               6          -0.006493          34.375764          36.999815   \n",
       "\n",
       "   time_diff_feature3 time_diff_feature4 time_diff_feature5  \n",
       "0            8.464051           8.489699           0.025648  \n",
       "1           16.856782          17.034653           0.177870  \n",
       "2            9.993287          10.002373           0.009086  \n",
       "3           29.969803          30.003773           0.033970  \n",
       "4           29.974259          30.004664           0.030405  \n",
       "5           27.219340          32.007176           4.787836  \n",
       "6           24.718981          24.847870           0.128889  \n",
       "7           30.297812          30.410660           0.112847  \n",
       "8           32.216678          32.977523           0.760845  \n",
       "9           30.939491          31.000868           0.061377  \n",
       "10          34.382257          37.006308           2.624051  \n",
       "\n",
       "[11 rows x 32 columns]"
      ]
     },
     "execution_count": 10,
     "metadata": {},
     "output_type": "execute_result"
    }
   ],
   "source": [
    "train.ix[:10]"
   ]
  },
  {
   "cell_type": "code",
   "execution_count": 11,
   "metadata": {
    "collapsed": true
   },
   "outputs": [],
   "source": [
    "string_cols = ['name','desc','keywords']\n",
    "def get_strlen(df, col):\n",
    "    df[col+'_len1'] = df[col].apply(str).apply(len)\n",
    "    temp = df[col].apply(lambda x: re.sub('[^a-zA-Z0-9 ]+',' ', str(x).lower()).strip())\n",
    "    df[col+'_len2'] = temp.apply(len)\n",
    "    df[col+'_count'] = temp.str.split().apply(len)\n",
    "    df[col+'_char_diff'] = df[col+'_len2'] - df[col+'_len1']\n",
    "    return df"
   ]
  },
  {
   "cell_type": "code",
   "execution_count": 12,
   "metadata": {
    "collapsed": true
   },
   "outputs": [],
   "source": [
    "for col in string_cols:\n",
    "    train = get_strlen(train, col)\n",
    "    test = get_strlen(test, col)"
   ]
  },
  {
   "cell_type": "code",
   "execution_count": 13,
   "metadata": {},
   "outputs": [
    {
     "data": {
      "text/html": [
       "<div>\n",
       "<style>\n",
       "    .dataframe thead tr:only-child th {\n",
       "        text-align: right;\n",
       "    }\n",
       "\n",
       "    .dataframe thead th {\n",
       "        text-align: left;\n",
       "    }\n",
       "\n",
       "    .dataframe tbody tr th {\n",
       "        vertical-align: top;\n",
       "    }\n",
       "</style>\n",
       "<table border=\"1\" class=\"dataframe\">\n",
       "  <thead>\n",
       "    <tr style=\"text-align: right;\">\n",
       "      <th></th>\n",
       "      <th>project_id</th>\n",
       "      <th>name</th>\n",
       "      <th>desc</th>\n",
       "      <th>goal</th>\n",
       "      <th>keywords</th>\n",
       "      <th>disable_communication</th>\n",
       "      <th>country</th>\n",
       "      <th>currency</th>\n",
       "      <th>deadline</th>\n",
       "      <th>state_changed_at</th>\n",
       "      <th>...</th>\n",
       "      <th>name_count</th>\n",
       "      <th>name_char_diff</th>\n",
       "      <th>desc_len1</th>\n",
       "      <th>desc_len2</th>\n",
       "      <th>desc_count</th>\n",
       "      <th>desc_char_diff</th>\n",
       "      <th>keywords_len1</th>\n",
       "      <th>keywords_len2</th>\n",
       "      <th>keywords_count</th>\n",
       "      <th>keywords_char_diff</th>\n",
       "    </tr>\n",
       "  </thead>\n",
       "  <tbody>\n",
       "    <tr>\n",
       "      <th>0</th>\n",
       "      <td>kkst1451568084</td>\n",
       "      <td>drawing for dollars</td>\n",
       "      <td>I like drawing pictures. and then i color them...</td>\n",
       "      <td>20.0</td>\n",
       "      <td>drawing-for-dollars</td>\n",
       "      <td>False</td>\n",
       "      <td>US</td>\n",
       "      <td>USD</td>\n",
       "      <td>2009-05-03 06:59:59</td>\n",
       "      <td>2009-05-03 07:00:17</td>\n",
       "      <td>...</td>\n",
       "      <td>3</td>\n",
       "      <td>0</td>\n",
       "      <td>134</td>\n",
       "      <td>131</td>\n",
       "      <td>26</td>\n",
       "      <td>-3</td>\n",
       "      <td>19</td>\n",
       "      <td>19</td>\n",
       "      <td>3</td>\n",
       "      <td>0</td>\n",
       "    </tr>\n",
       "    <tr>\n",
       "      <th>1</th>\n",
       "      <td>kkst1474482071</td>\n",
       "      <td>Sponsor Dereck Blackburn (Lostwars) Artist in ...</td>\n",
       "      <td>I, Dereck Blackburn will be taking upon an inc...</td>\n",
       "      <td>300.0</td>\n",
       "      <td>sponsor-dereck-blackburn-lostwars-artist-in-re...</td>\n",
       "      <td>False</td>\n",
       "      <td>US</td>\n",
       "      <td>USD</td>\n",
       "      <td>2009-05-15 23:10:00</td>\n",
       "      <td>2009-05-16 00:00:18</td>\n",
       "      <td>...</td>\n",
       "      <td>10</td>\n",
       "      <td>0</td>\n",
       "      <td>137</td>\n",
       "      <td>134</td>\n",
       "      <td>25</td>\n",
       "      <td>-3</td>\n",
       "      <td>74</td>\n",
       "      <td>74</td>\n",
       "      <td>10</td>\n",
       "      <td>0</td>\n",
       "    </tr>\n",
       "    <tr>\n",
       "      <th>2</th>\n",
       "      <td>kkst183622197</td>\n",
       "      <td>Mr. Squiggles</td>\n",
       "      <td>So I saw darkpony's successfully funded drawin...</td>\n",
       "      <td>30.0</td>\n",
       "      <td>mr-squiggles</td>\n",
       "      <td>False</td>\n",
       "      <td>US</td>\n",
       "      <td>USD</td>\n",
       "      <td>2009-05-22 21:26:00</td>\n",
       "      <td>2009-05-22 21:30:18</td>\n",
       "      <td>...</td>\n",
       "      <td>2</td>\n",
       "      <td>0</td>\n",
       "      <td>385</td>\n",
       "      <td>127</td>\n",
       "      <td>25</td>\n",
       "      <td>-258</td>\n",
       "      <td>12</td>\n",
       "      <td>12</td>\n",
       "      <td>2</td>\n",
       "      <td>0</td>\n",
       "    </tr>\n",
       "    <tr>\n",
       "      <th>3</th>\n",
       "      <td>kkst597742710</td>\n",
       "      <td>Help me write my second novel.</td>\n",
       "      <td>Do your part to help out starving artists and ...</td>\n",
       "      <td>500.0</td>\n",
       "      <td>help-me-write-my-second-novel</td>\n",
       "      <td>False</td>\n",
       "      <td>US</td>\n",
       "      <td>USD</td>\n",
       "      <td>2009-05-29 00:09:00</td>\n",
       "      <td>2009-05-29 00:15:21</td>\n",
       "      <td>...</td>\n",
       "      <td>6</td>\n",
       "      <td>-1</td>\n",
       "      <td>131</td>\n",
       "      <td>124</td>\n",
       "      <td>24</td>\n",
       "      <td>-7</td>\n",
       "      <td>29</td>\n",
       "      <td>29</td>\n",
       "      <td>6</td>\n",
       "      <td>0</td>\n",
       "    </tr>\n",
       "    <tr>\n",
       "      <th>4</th>\n",
       "      <td>kkst1913131122</td>\n",
       "      <td>Support casting my sculpture in bronze</td>\n",
       "      <td>I'm nearing completion on a sculpture, current...</td>\n",
       "      <td>2000.0</td>\n",
       "      <td>support-casting-my-sculpture-in-bronze</td>\n",
       "      <td>False</td>\n",
       "      <td>US</td>\n",
       "      <td>USD</td>\n",
       "      <td>2009-05-31 11:38:00</td>\n",
       "      <td>2009-05-31 11:45:17</td>\n",
       "      <td>...</td>\n",
       "      <td>6</td>\n",
       "      <td>0</td>\n",
       "      <td>384</td>\n",
       "      <td>125</td>\n",
       "      <td>21</td>\n",
       "      <td>-259</td>\n",
       "      <td>38</td>\n",
       "      <td>38</td>\n",
       "      <td>6</td>\n",
       "      <td>0</td>\n",
       "    </tr>\n",
       "  </tbody>\n",
       "</table>\n",
       "<p>5 rows × 44 columns</p>\n",
       "</div>"
      ],
      "text/plain": [
       "       project_id                                               name  \\\n",
       "0  kkst1451568084                                drawing for dollars   \n",
       "1  kkst1474482071  Sponsor Dereck Blackburn (Lostwars) Artist in ...   \n",
       "2   kkst183622197                                      Mr. Squiggles   \n",
       "3   kkst597742710                     Help me write my second novel.   \n",
       "4  kkst1913131122             Support casting my sculpture in bronze   \n",
       "\n",
       "                                                desc    goal  \\\n",
       "0  I like drawing pictures. and then i color them...    20.0   \n",
       "1  I, Dereck Blackburn will be taking upon an inc...   300.0   \n",
       "2  So I saw darkpony's successfully funded drawin...    30.0   \n",
       "3  Do your part to help out starving artists and ...   500.0   \n",
       "4  I'm nearing completion on a sculpture, current...  2000.0   \n",
       "\n",
       "                                            keywords  disable_communication  \\\n",
       "0                                drawing-for-dollars                  False   \n",
       "1  sponsor-dereck-blackburn-lostwars-artist-in-re...                  False   \n",
       "2                                       mr-squiggles                  False   \n",
       "3                      help-me-write-my-second-novel                  False   \n",
       "4             support-casting-my-sculpture-in-bronze                  False   \n",
       "\n",
       "  country currency            deadline    state_changed_at        ...          \\\n",
       "0      US      USD 2009-05-03 06:59:59 2009-05-03 07:00:17        ...           \n",
       "1      US      USD 2009-05-15 23:10:00 2009-05-16 00:00:18        ...           \n",
       "2      US      USD 2009-05-22 21:26:00 2009-05-22 21:30:18        ...           \n",
       "3      US      USD 2009-05-29 00:09:00 2009-05-29 00:15:21        ...           \n",
       "4      US      USD 2009-05-31 11:38:00 2009-05-31 11:45:17        ...           \n",
       "\n",
       "  name_count name_char_diff  desc_len1  desc_len2 desc_count desc_char_diff  \\\n",
       "0          3              0        134        131         26             -3   \n",
       "1         10              0        137        134         25             -3   \n",
       "2          2              0        385        127         25           -258   \n",
       "3          6             -1        131        124         24             -7   \n",
       "4          6              0        384        125         21           -259   \n",
       "\n",
       "  keywords_len1 keywords_len2 keywords_count keywords_char_diff  \n",
       "0            19            19              3                  0  \n",
       "1            74            74             10                  0  \n",
       "2            12            12              2                  0  \n",
       "3            29            29              6                  0  \n",
       "4            38            38              6                  0  \n",
       "\n",
       "[5 rows x 44 columns]"
      ]
     },
     "execution_count": 13,
     "metadata": {},
     "output_type": "execute_result"
    }
   ],
   "source": [
    "train.head()"
   ]
  },
  {
   "cell_type": "code",
   "execution_count": 14,
   "metadata": {
    "collapsed": true
   },
   "outputs": [],
   "source": [
    "keyword_list = pd.Series(train['keywords'].tolist() + test['desc'].tolist()).astype(str)"
   ]
  },
  {
   "cell_type": "code",
   "execution_count": 15,
   "metadata": {
    "collapsed": true
   },
   "outputs": [],
   "source": [
    "def desc_clean(word):\n",
    "    temp = re.sub(pattern='(\\W+)|(\\d+)|(\\s+)|-',repl=' ',string=word)\n",
    "    temp = temp.lower()\n",
    "    return temp\n",
    "\n",
    "keyword_list = keyword_list.map(desc_clean)\n"
   ]
  },
  {
   "cell_type": "code",
   "execution_count": 16,
   "metadata": {
    "collapsed": true
   },
   "outputs": [],
   "source": [
    "stop = set(stopwords.words('english'))\n",
    "keyword_list = [[x for x in x.split() if x not in stop] for x in keyword_list]\n",
    "\n",
    "stemmer = SnowballStemmer(language='english')\n",
    "keyword_list = [[stemmer.stem(x) for x in x] for x in keyword_list]\n",
    "\n",
    "keyword_list = [[x for x in x if len(x) > 2] for x in keyword_list]\n",
    "\n",
    "keyword_list = [' '.join(x) for x in keyword_list]"
   ]
  },
  {
   "cell_type": "code",
   "execution_count": 17,
   "metadata": {
    "collapsed": true
   },
   "outputs": [],
   "source": [
    "cv = CountVectorizer(max_features=650)"
   ]
  },
  {
   "cell_type": "code",
   "execution_count": 18,
   "metadata": {
    "collapsed": true
   },
   "outputs": [],
   "source": [
    "alldesc = cv.fit_transform(keyword_list).todense()"
   ]
  },
  {
   "cell_type": "code",
   "execution_count": 19,
   "metadata": {
    "collapsed": true
   },
   "outputs": [],
   "source": [
    "combine = pd.DataFrame(alldesc)\n",
    "combine.rename(columns= lambda x: 'variable_'+ str(x), inplace=True)"
   ]
  },
  {
   "cell_type": "code",
   "execution_count": 20,
   "metadata": {
    "collapsed": true
   },
   "outputs": [],
   "source": [
    "train_text = combine[:train.shape[0]]\n",
    "test_text = combine[train.shape[0]:]\n",
    "\n",
    "test_text.reset_index(drop=True,inplace=True)"
   ]
  },
  {
   "cell_type": "code",
   "execution_count": 21,
   "metadata": {},
   "outputs": [
    {
     "data": {
      "text/html": [
       "<div>\n",
       "<style>\n",
       "    .dataframe thead tr:only-child th {\n",
       "        text-align: right;\n",
       "    }\n",
       "\n",
       "    .dataframe thead th {\n",
       "        text-align: left;\n",
       "    }\n",
       "\n",
       "    .dataframe tbody tr th {\n",
       "        vertical-align: top;\n",
       "    }\n",
       "</style>\n",
       "<table border=\"1\" class=\"dataframe\">\n",
       "  <thead>\n",
       "    <tr style=\"text-align: right;\">\n",
       "      <th></th>\n",
       "      <th>variable_0</th>\n",
       "      <th>variable_1</th>\n",
       "      <th>variable_2</th>\n",
       "      <th>variable_3</th>\n",
       "      <th>variable_4</th>\n",
       "      <th>variable_5</th>\n",
       "      <th>variable_6</th>\n",
       "      <th>variable_7</th>\n",
       "      <th>variable_8</th>\n",
       "      <th>variable_9</th>\n",
       "      <th>...</th>\n",
       "      <th>variable_640</th>\n",
       "      <th>variable_641</th>\n",
       "      <th>variable_642</th>\n",
       "      <th>variable_643</th>\n",
       "      <th>variable_644</th>\n",
       "      <th>variable_645</th>\n",
       "      <th>variable_646</th>\n",
       "      <th>variable_647</th>\n",
       "      <th>variable_648</th>\n",
       "      <th>variable_649</th>\n",
       "    </tr>\n",
       "  </thead>\n",
       "  <tbody>\n",
       "    <tr>\n",
       "      <th>0</th>\n",
       "      <td>0</td>\n",
       "      <td>0</td>\n",
       "      <td>0</td>\n",
       "      <td>0</td>\n",
       "      <td>0</td>\n",
       "      <td>0</td>\n",
       "      <td>0</td>\n",
       "      <td>0</td>\n",
       "      <td>0</td>\n",
       "      <td>0</td>\n",
       "      <td>...</td>\n",
       "      <td>0</td>\n",
       "      <td>0</td>\n",
       "      <td>0</td>\n",
       "      <td>0</td>\n",
       "      <td>0</td>\n",
       "      <td>0</td>\n",
       "      <td>0</td>\n",
       "      <td>0</td>\n",
       "      <td>0</td>\n",
       "      <td>0</td>\n",
       "    </tr>\n",
       "    <tr>\n",
       "      <th>1</th>\n",
       "      <td>0</td>\n",
       "      <td>0</td>\n",
       "      <td>0</td>\n",
       "      <td>0</td>\n",
       "      <td>0</td>\n",
       "      <td>0</td>\n",
       "      <td>0</td>\n",
       "      <td>0</td>\n",
       "      <td>0</td>\n",
       "      <td>0</td>\n",
       "      <td>...</td>\n",
       "      <td>0</td>\n",
       "      <td>0</td>\n",
       "      <td>0</td>\n",
       "      <td>0</td>\n",
       "      <td>0</td>\n",
       "      <td>0</td>\n",
       "      <td>0</td>\n",
       "      <td>0</td>\n",
       "      <td>0</td>\n",
       "      <td>0</td>\n",
       "    </tr>\n",
       "    <tr>\n",
       "      <th>2</th>\n",
       "      <td>0</td>\n",
       "      <td>0</td>\n",
       "      <td>0</td>\n",
       "      <td>0</td>\n",
       "      <td>0</td>\n",
       "      <td>0</td>\n",
       "      <td>0</td>\n",
       "      <td>0</td>\n",
       "      <td>0</td>\n",
       "      <td>0</td>\n",
       "      <td>...</td>\n",
       "      <td>0</td>\n",
       "      <td>0</td>\n",
       "      <td>0</td>\n",
       "      <td>0</td>\n",
       "      <td>0</td>\n",
       "      <td>0</td>\n",
       "      <td>0</td>\n",
       "      <td>0</td>\n",
       "      <td>0</td>\n",
       "      <td>0</td>\n",
       "    </tr>\n",
       "    <tr>\n",
       "      <th>3</th>\n",
       "      <td>0</td>\n",
       "      <td>0</td>\n",
       "      <td>0</td>\n",
       "      <td>0</td>\n",
       "      <td>0</td>\n",
       "      <td>0</td>\n",
       "      <td>0</td>\n",
       "      <td>0</td>\n",
       "      <td>0</td>\n",
       "      <td>0</td>\n",
       "      <td>...</td>\n",
       "      <td>2</td>\n",
       "      <td>0</td>\n",
       "      <td>0</td>\n",
       "      <td>0</td>\n",
       "      <td>0</td>\n",
       "      <td>0</td>\n",
       "      <td>0</td>\n",
       "      <td>0</td>\n",
       "      <td>0</td>\n",
       "      <td>0</td>\n",
       "    </tr>\n",
       "    <tr>\n",
       "      <th>4</th>\n",
       "      <td>0</td>\n",
       "      <td>0</td>\n",
       "      <td>0</td>\n",
       "      <td>0</td>\n",
       "      <td>0</td>\n",
       "      <td>0</td>\n",
       "      <td>0</td>\n",
       "      <td>0</td>\n",
       "      <td>0</td>\n",
       "      <td>0</td>\n",
       "      <td>...</td>\n",
       "      <td>0</td>\n",
       "      <td>0</td>\n",
       "      <td>0</td>\n",
       "      <td>0</td>\n",
       "      <td>0</td>\n",
       "      <td>0</td>\n",
       "      <td>0</td>\n",
       "      <td>0</td>\n",
       "      <td>0</td>\n",
       "      <td>0</td>\n",
       "    </tr>\n",
       "  </tbody>\n",
       "</table>\n",
       "<p>5 rows × 650 columns</p>\n",
       "</div>"
      ],
      "text/plain": [
       "   variable_0  variable_1  variable_2  variable_3  variable_4  variable_5  \\\n",
       "0           0           0           0           0           0           0   \n",
       "1           0           0           0           0           0           0   \n",
       "2           0           0           0           0           0           0   \n",
       "3           0           0           0           0           0           0   \n",
       "4           0           0           0           0           0           0   \n",
       "\n",
       "   variable_6  variable_7  variable_8  variable_9      ...       variable_640  \\\n",
       "0           0           0           0           0      ...                  0   \n",
       "1           0           0           0           0      ...                  0   \n",
       "2           0           0           0           0      ...                  0   \n",
       "3           0           0           0           0      ...                  2   \n",
       "4           0           0           0           0      ...                  0   \n",
       "\n",
       "   variable_641  variable_642  variable_643  variable_644  variable_645  \\\n",
       "0             0             0             0             0             0   \n",
       "1             0             0             0             0             0   \n",
       "2             0             0             0             0             0   \n",
       "3             0             0             0             0             0   \n",
       "4             0             0             0             0             0   \n",
       "\n",
       "   variable_646  variable_647  variable_648  variable_649  \n",
       "0             0             0             0             0  \n",
       "1             0             0             0             0  \n",
       "2             0             0             0             0  \n",
       "3             0             0             0             0  \n",
       "4             0             0             0             0  \n",
       "\n",
       "[5 rows x 650 columns]"
      ]
     },
     "execution_count": 21,
     "metadata": {},
     "output_type": "execute_result"
    }
   ],
   "source": [
    "train_text.head()"
   ]
  },
  {
   "cell_type": "code",
   "execution_count": 22,
   "metadata": {
    "collapsed": true
   },
   "outputs": [],
   "source": [
    "target = train['final_status']"
   ]
  },
  {
   "cell_type": "code",
   "execution_count": 23,
   "metadata": {
    "collapsed": true
   },
   "outputs": [],
   "source": [
    "train = train[['goal',\n",
    "             'disable_communication',\n",
    "             'country',\n",
    "             'currency',\n",
    "             'deadline_month',\n",
    "             'deadline_week',\n",
    "             'deadline_day',\n",
    "             'state_changed_at_month',\n",
    "             'state_changed_at_week',\n",
    "             'state_changed_at_day',\n",
    "             'launched_at_month',\n",
    "             'launched_at_week',\n",
    "             'launched_at_day',\n",
    "             'created_at_month',\n",
    "             'created_at_week',\n",
    "             'created_at_day',\n",
    "             'time_diff_feature0',\n",
    "             'time_diff_feature1',\n",
    "             'time_diff_feature2',\n",
    "             'time_diff_feature3',\n",
    "             'time_diff_feature4',\n",
    "             'time_diff_feature5',\n",
    "             'name_len1',\n",
    "             'name_len2',\n",
    "             'name_count',\n",
    "             'name_char_diff',\n",
    "             'desc_len1',\n",
    "             'desc_len2',\n",
    "             'desc_count',\n",
    "             'desc_char_diff']]"
   ]
  },
  {
   "cell_type": "code",
   "execution_count": 38,
   "metadata": {
    "collapsed": true
   },
   "outputs": [],
   "source": [
    "project_ids = test['project_id']"
   ]
  },
  {
   "cell_type": "code",
   "execution_count": 24,
   "metadata": {
    "collapsed": true
   },
   "outputs": [],
   "source": [
    "test = test[['goal',\n",
    "             'disable_communication',\n",
    "             'country',\n",
    "             'currency',\n",
    "             'deadline_month',\n",
    "             'deadline_week',\n",
    "             'deadline_day',\n",
    "             'state_changed_at_month',\n",
    "             'state_changed_at_week',\n",
    "             'state_changed_at_day',\n",
    "             'launched_at_month',\n",
    "             'launched_at_week',\n",
    "             'launched_at_day',\n",
    "             'created_at_month',\n",
    "             'created_at_week',\n",
    "             'created_at_day',\n",
    "             'time_diff_feature0',\n",
    "             'time_diff_feature1',\n",
    "             'time_diff_feature2',\n",
    "             'time_diff_feature3',\n",
    "             'time_diff_feature4',\n",
    "             'time_diff_feature5',\n",
    "             'name_len1',\n",
    "             'name_len2',\n",
    "             'name_count',\n",
    "             'name_char_diff',\n",
    "             'desc_len1',\n",
    "             'desc_len2',\n",
    "             'desc_count',\n",
    "             'desc_char_diff']]"
   ]
  },
  {
   "cell_type": "code",
   "execution_count": 25,
   "metadata": {},
   "outputs": [
    {
     "data": {
      "text/html": [
       "<div>\n",
       "<style>\n",
       "    .dataframe thead tr:only-child th {\n",
       "        text-align: right;\n",
       "    }\n",
       "\n",
       "    .dataframe thead th {\n",
       "        text-align: left;\n",
       "    }\n",
       "\n",
       "    .dataframe tbody tr th {\n",
       "        vertical-align: top;\n",
       "    }\n",
       "</style>\n",
       "<table border=\"1\" class=\"dataframe\">\n",
       "  <thead>\n",
       "    <tr style=\"text-align: right;\">\n",
       "      <th></th>\n",
       "      <th>goal</th>\n",
       "      <th>disable_communication</th>\n",
       "      <th>country</th>\n",
       "      <th>currency</th>\n",
       "      <th>deadline_month</th>\n",
       "      <th>deadline_week</th>\n",
       "      <th>deadline_day</th>\n",
       "      <th>state_changed_at_month</th>\n",
       "      <th>state_changed_at_week</th>\n",
       "      <th>state_changed_at_day</th>\n",
       "      <th>...</th>\n",
       "      <th>time_diff_feature4</th>\n",
       "      <th>time_diff_feature5</th>\n",
       "      <th>name_len1</th>\n",
       "      <th>name_len2</th>\n",
       "      <th>name_count</th>\n",
       "      <th>name_char_diff</th>\n",
       "      <th>desc_len1</th>\n",
       "      <th>desc_len2</th>\n",
       "      <th>desc_count</th>\n",
       "      <th>desc_char_diff</th>\n",
       "    </tr>\n",
       "  </thead>\n",
       "  <tbody>\n",
       "    <tr>\n",
       "      <th>0</th>\n",
       "      <td>20.0</td>\n",
       "      <td>False</td>\n",
       "      <td>US</td>\n",
       "      <td>USD</td>\n",
       "      <td>May</td>\n",
       "      <td>0</td>\n",
       "      <td>7</td>\n",
       "      <td>May</td>\n",
       "      <td>0</td>\n",
       "      <td>7</td>\n",
       "      <td>...</td>\n",
       "      <td>8.489699</td>\n",
       "      <td>0.025648</td>\n",
       "      <td>19</td>\n",
       "      <td>19</td>\n",
       "      <td>3</td>\n",
       "      <td>0</td>\n",
       "      <td>134</td>\n",
       "      <td>131</td>\n",
       "      <td>26</td>\n",
       "      <td>-3</td>\n",
       "    </tr>\n",
       "    <tr>\n",
       "      <th>1</th>\n",
       "      <td>300.0</td>\n",
       "      <td>False</td>\n",
       "      <td>US</td>\n",
       "      <td>USD</td>\n",
       "      <td>May</td>\n",
       "      <td>5</td>\n",
       "      <td>5</td>\n",
       "      <td>May</td>\n",
       "      <td>6</td>\n",
       "      <td>6</td>\n",
       "      <td>...</td>\n",
       "      <td>17.034653</td>\n",
       "      <td>0.177870</td>\n",
       "      <td>76</td>\n",
       "      <td>76</td>\n",
       "      <td>10</td>\n",
       "      <td>0</td>\n",
       "      <td>137</td>\n",
       "      <td>134</td>\n",
       "      <td>25</td>\n",
       "      <td>-3</td>\n",
       "    </tr>\n",
       "    <tr>\n",
       "      <th>2</th>\n",
       "      <td>30.0</td>\n",
       "      <td>False</td>\n",
       "      <td>US</td>\n",
       "      <td>USD</td>\n",
       "      <td>May</td>\n",
       "      <td>5</td>\n",
       "      <td>5</td>\n",
       "      <td>May</td>\n",
       "      <td>5</td>\n",
       "      <td>5</td>\n",
       "      <td>...</td>\n",
       "      <td>10.002373</td>\n",
       "      <td>0.009086</td>\n",
       "      <td>13</td>\n",
       "      <td>13</td>\n",
       "      <td>2</td>\n",
       "      <td>0</td>\n",
       "      <td>385</td>\n",
       "      <td>127</td>\n",
       "      <td>25</td>\n",
       "      <td>-258</td>\n",
       "    </tr>\n",
       "    <tr>\n",
       "      <th>3</th>\n",
       "      <td>500.0</td>\n",
       "      <td>False</td>\n",
       "      <td>US</td>\n",
       "      <td>USD</td>\n",
       "      <td>May</td>\n",
       "      <td>5</td>\n",
       "      <td>5</td>\n",
       "      <td>May</td>\n",
       "      <td>5</td>\n",
       "      <td>5</td>\n",
       "      <td>...</td>\n",
       "      <td>30.003773</td>\n",
       "      <td>0.033970</td>\n",
       "      <td>30</td>\n",
       "      <td>29</td>\n",
       "      <td>6</td>\n",
       "      <td>-1</td>\n",
       "      <td>131</td>\n",
       "      <td>124</td>\n",
       "      <td>24</td>\n",
       "      <td>-7</td>\n",
       "    </tr>\n",
       "    <tr>\n",
       "      <th>4</th>\n",
       "      <td>2000.0</td>\n",
       "      <td>False</td>\n",
       "      <td>US</td>\n",
       "      <td>USD</td>\n",
       "      <td>May</td>\n",
       "      <td>0</td>\n",
       "      <td>7</td>\n",
       "      <td>May</td>\n",
       "      <td>0</td>\n",
       "      <td>7</td>\n",
       "      <td>...</td>\n",
       "      <td>30.004664</td>\n",
       "      <td>0.030405</td>\n",
       "      <td>38</td>\n",
       "      <td>38</td>\n",
       "      <td>6</td>\n",
       "      <td>0</td>\n",
       "      <td>384</td>\n",
       "      <td>125</td>\n",
       "      <td>21</td>\n",
       "      <td>-259</td>\n",
       "    </tr>\n",
       "  </tbody>\n",
       "</table>\n",
       "<p>5 rows × 30 columns</p>\n",
       "</div>"
      ],
      "text/plain": [
       "     goal  disable_communication country currency deadline_month  \\\n",
       "0    20.0                  False      US      USD            May   \n",
       "1   300.0                  False      US      USD            May   \n",
       "2    30.0                  False      US      USD            May   \n",
       "3   500.0                  False      US      USD            May   \n",
       "4  2000.0                  False      US      USD            May   \n",
       "\n",
       "  deadline_week deadline_day state_changed_at_month state_changed_at_week  \\\n",
       "0             0            7                    May                     0   \n",
       "1             5            5                    May                     6   \n",
       "2             5            5                    May                     5   \n",
       "3             5            5                    May                     5   \n",
       "4             0            7                    May                     0   \n",
       "\n",
       "  state_changed_at_day       ...       time_diff_feature4 time_diff_feature5  \\\n",
       "0                    7       ...                 8.489699           0.025648   \n",
       "1                    6       ...                17.034653           0.177870   \n",
       "2                    5       ...                10.002373           0.009086   \n",
       "3                    5       ...                30.003773           0.033970   \n",
       "4                    7       ...                30.004664           0.030405   \n",
       "\n",
       "  name_len1 name_len2 name_count name_char_diff  desc_len1  desc_len2  \\\n",
       "0        19        19          3              0        134        131   \n",
       "1        76        76         10              0        137        134   \n",
       "2        13        13          2              0        385        127   \n",
       "3        30        29          6             -1        131        124   \n",
       "4        38        38          6              0        384        125   \n",
       "\n",
       "   desc_count  desc_char_diff  \n",
       "0          26              -3  \n",
       "1          25              -3  \n",
       "2          25            -258  \n",
       "3          24              -7  \n",
       "4          21            -259  \n",
       "\n",
       "[5 rows x 30 columns]"
      ]
     },
     "execution_count": 25,
     "metadata": {},
     "output_type": "execute_result"
    }
   ],
   "source": [
    "train.head()"
   ]
  },
  {
   "cell_type": "code",
   "execution_count": 26,
   "metadata": {},
   "outputs": [
    {
     "data": {
      "text/plain": [
       "Index([u'goal', u'disable_communication', u'country', u'currency',\n",
       "       u'deadline_month', u'deadline_week', u'deadline_day',\n",
       "       u'state_changed_at_month', u'state_changed_at_week',\n",
       "       u'state_changed_at_day', u'launched_at_month', u'launched_at_week',\n",
       "       u'launched_at_day', u'created_at_month', u'created_at_week',\n",
       "       u'created_at_day', u'time_diff_feature0', u'time_diff_feature1',\n",
       "       u'time_diff_feature2', u'time_diff_feature3', u'time_diff_feature4',\n",
       "       u'time_diff_feature5', u'name_len1', u'name_len2', u'name_count',\n",
       "       u'name_char_diff', u'desc_len1', u'desc_len2', u'desc_count',\n",
       "       u'desc_char_diff'],\n",
       "      dtype='object')"
      ]
     },
     "execution_count": 26,
     "metadata": {},
     "output_type": "execute_result"
    }
   ],
   "source": [
    "train.columns"
   ]
  },
  {
   "cell_type": "code",
   "execution_count": 27,
   "metadata": {
    "collapsed": true
   },
   "outputs": [],
   "source": [
    "train['disable_communication'] = train['disable_communication'].astype(float)\n",
    "test['disable_communication'] = test['disable_communication'].astype(float)"
   ]
  },
  {
   "cell_type": "code",
   "execution_count": 28,
   "metadata": {
    "collapsed": true
   },
   "outputs": [],
   "source": [
    "categorical_columns = train.columns[train.dtypes=='object']\n",
    "non_categorical_columns = train.columns[train.dtypes!='object']\n",
    "\n",
    "train_dummy = train[non_categorical_columns]\n",
    "test_dummy = test[non_categorical_columns]\n",
    "for i in categorical_columns:\n",
    "    train_dummy = pd.concat([train_dummy,pd.get_dummies(train[i],prefix=i)],axis=1)\n",
    "    test_dummy = pd.concat([test_dummy,pd.get_dummies(test[i],prefix=i)],axis=1)\n",
    "    "
   ]
  },
  {
   "cell_type": "code",
   "execution_count": 29,
   "metadata": {
    "collapsed": true
   },
   "outputs": [],
   "source": [
    "common_cols = list(set(list(train_dummy.columns)) & set(list(test_dummy.columns)))"
   ]
  },
  {
   "cell_type": "code",
   "execution_count": 30,
   "metadata": {
    "collapsed": true
   },
   "outputs": [],
   "source": [
    "train_dummy = train_dummy[common_cols]\n",
    "test_dummy = test_dummy[common_cols]"
   ]
  },
  {
   "cell_type": "code",
   "execution_count": 31,
   "metadata": {
    "collapsed": true
   },
   "outputs": [],
   "source": [
    "X_train = pd.concat([train_dummy, train_text],axis=1)\n",
    "X_test = pd.concat([test_dummy, test_text],axis=1)"
   ]
  },
  {
   "cell_type": "code",
   "execution_count": 32,
   "metadata": {
    "collapsed": true
   },
   "outputs": [],
   "source": [
    "dtrain = xgb.DMatrix(data=X_train, label = target)\n",
    "dtest = xgb.DMatrix(data=X_test)\n",
    "\n"
   ]
  },
  {
   "cell_type": "code",
   "execution_count": 59,
   "metadata": {
    "collapsed": true
   },
   "outputs": [],
   "source": [
    "params = {}\n",
    "params[0] = {\n",
    "    'objective':'binary:logistic',\n",
    "    'eval_metric':'error',\n",
    "    'eta':0.05,\n",
    "    'max_depth':8,\n",
    "    'subsample':0.8,\n",
    "    'colsample_bytree':0.8,\n",
    "    'min_child_weight':5\n",
    "    \n",
    "}\n",
    "\n",
    "params[1] = {\n",
    "    'objective':'binary:logistic',\n",
    "    'eval_metric':'logloss',\n",
    "    'eta':0.08,\n",
    "    'max_depth':8,\n",
    "    'subsample':0.7,\n",
    "    'colsample_bytree':0.7,\n",
    "    'min_child_weight':5\n",
    "    \n",
    "}\n",
    "\n",
    "params[2] = {\n",
    "    'objective':'binary:logistic',\n",
    "    'eval_metric':'auc',\n",
    "    'eta':0.1,\n",
    "    'max_depth':8,\n",
    "    'subsample':0.75,\n",
    "    'colsample_bytree':0.75,\n",
    "    'min_child_weight':2\n",
    "    \n",
    "}\n"
   ]
  },
  {
   "cell_type": "code",
   "execution_count": 62,
   "metadata": {
    "collapsed": true
   },
   "outputs": [],
   "source": [
    "import random\n",
    "seeds = [1234, 100, 3500, 8500, 6000,1]\n",
    "test_preds = np.zeros((len(test), len(seeds)))\n",
    "for run in range(len(seeds)):\n",
    "    count = (run)%3\n",
    "    params[count]['seed'] = seeds[run]\n",
    "    clf = xgb.train(params[count], dtrain, num_boost_round = random.randint(500,800))\n",
    "    test_preds[:, run] = clf.predict(dtest)"
   ]
  },
  {
   "cell_type": "code",
   "execution_count": 99,
   "metadata": {
    "collapsed": true
   },
   "outputs": [],
   "source": [
    "# p_test = np.mean(test_preds, axis=1)"
   ]
  },
  {
   "cell_type": "code",
   "execution_count": 103,
   "metadata": {
    "collapsed": true
   },
   "outputs": [],
   "source": [
    "p_test = map(lambda x: np.prod(x)**(1.0/6.0), test_preds)"
   ]
  },
  {
   "cell_type": "code",
   "execution_count": 104,
   "metadata": {
    "collapsed": true
   },
   "outputs": [],
   "source": [
    "sub = pd.DataFrame()\n",
    "sub['project_id'] = project_ids\n",
    "sub['final_status'] = p_test"
   ]
  },
  {
   "cell_type": "code",
   "execution_count": 105,
   "metadata": {
    "collapsed": true
   },
   "outputs": [],
   "source": [
    "sub.to_csv(\"xgb_with_python_auc.csv\",index=False) "
   ]
  },
  {
   "cell_type": "code",
   "execution_count": 66,
   "metadata": {
    "collapsed": true
   },
   "outputs": [],
   "source": [
    "sub1 = sub"
   ]
  },
  {
   "cell_type": "code",
   "execution_count": 106,
   "metadata": {
    "collapsed": true
   },
   "outputs": [],
   "source": [
    "sub['final_status'] = [1 if x > 0.32 else 0 for x in sub['final_status']]"
   ]
  },
  {
   "cell_type": "code",
   "execution_count": 107,
   "metadata": {
    "collapsed": true
   },
   "outputs": [],
   "source": [
    "sub.to_csv(\"xgb_with_python_feats.csv\",index=False) "
   ]
  },
  {
   "cell_type": "code",
   "execution_count": null,
   "metadata": {
    "collapsed": true
   },
   "outputs": [],
   "source": []
  },
  {
   "cell_type": "code",
   "execution_count": 45,
   "metadata": {
    "collapsed": true
   },
   "outputs": [],
   "source": [
    "from sklearn import metrics\n",
    "from ggplot import *\n",
    "\n",
    "preds = bst_train.predict(dtrain)\n"
   ]
  },
  {
   "cell_type": "code",
   "execution_count": 46,
   "metadata": {
    "collapsed": true
   },
   "outputs": [],
   "source": [
    "fpr, tpr, _ = metrics.roc_curve(target, preds)\n",
    "\n"
   ]
  },
  {
   "cell_type": "code",
   "execution_count": 47,
   "metadata": {},
   "outputs": [
    {
     "data": {
      "text/plain": [
       "array([  0.00000000e+00,   0.00000000e+00,   1.35928665e-05, ...,\n",
       "         9.85537190e-01,   9.85564376e-01,   1.00000000e+00])"
      ]
     },
     "execution_count": 47,
     "metadata": {},
     "output_type": "execute_result"
    }
   ],
   "source": [
    "fpr"
   ]
  },
  {
   "cell_type": "code",
   "execution_count": 48,
   "metadata": {},
   "outputs": [
    {
     "data": {
      "text/plain": [
       "array([  2.89343480e-05,   2.60409132e-03,   2.60409132e-03, ...,\n",
       "         1.00000000e+00,   1.00000000e+00,   1.00000000e+00])"
      ]
     },
     "execution_count": 48,
     "metadata": {},
     "output_type": "execute_result"
    }
   ],
   "source": [
    "tpr"
   ]
  },
  {
   "cell_type": "code",
   "execution_count": 49,
   "metadata": {},
   "outputs": [
    {
     "data": {
      "text/plain": [
       "array([  2.89343480e-05,   2.60409132e-03,   2.60409132e-03, ...,\n",
       "         1.00000000e+00,   1.00000000e+00,   1.00000000e+00])"
      ]
     },
     "execution_count": 49,
     "metadata": {},
     "output_type": "execute_result"
    }
   ],
   "source": [
    "_"
   ]
  },
  {
   "cell_type": "code",
   "execution_count": 50,
   "metadata": {},
   "outputs": [
    {
     "data": {
      "image/png": "[encoded data removed]",
      "text/plain": [
       "<matplotlib.figure.Figure at 0x7fa8959f5350>"
      ]
     },
     "metadata": {},
     "output_type": "display_data"
    },
    {
     "data": {
      "text/plain": [
       "<ggplot: (8772627775217)>"
      ]
     },
     "execution_count": 50,
     "metadata": {},
     "output_type": "execute_result"
    }
   ],
   "source": [
    "df = pd.DataFrame(dict(fpr=fpr, tpr=tpr))\n",
    "ggplot(df, aes(x='fpr', y='tpr')) +\\\n",
    "    geom_line() +\\\n",
    "    geom_abline(linetype='dashed')"
   ]
  },
  {
   "cell_type": "code",
   "execution_count": 52,
   "metadata": {
    "collapsed": true
   },
   "outputs": [],
   "source": [
    "auc = metrics.auc(fpr,tpr)"
   ]
  },
  {
   "cell_type": "code",
   "execution_count": 53,
   "metadata": {},
   "outputs": [
    {
     "data": {
      "text/plain": [
       "0.80651961759961743"
      ]
     },
     "execution_count": 53,
     "metadata": {},
     "output_type": "execute_result"
    }
   ],
   "source": [
    "auc"
   ]
  },
  {
   "cell_type": "code",
   "execution_count": null,
   "metadata": {},
   "outputs": [],
   "source": []
  },
  {
   "cell_type": "code",
   "execution_count": 91,
   "metadata": {},
   "outputs": [
    {
     "data": {
      "text/plain": [
       "34561"
      ]
     },
     "execution_count": 91,
     "metadata": {},
     "output_type": "execute_result"
    }
   ],
   "source": [
    "sum(target)"
   ]
  },
  {
   "cell_type": "code",
   "execution_count": 92,
   "metadata": {},
   "outputs": [
    {
     "data": {
      "text/plain": [
       "108129"
      ]
     },
     "execution_count": 92,
     "metadata": {},
     "output_type": "execute_result"
    }
   ],
   "source": [
    "len(target)"
   ]
  },
  {
   "cell_type": "code",
   "execution_count": 94,
   "metadata": {},
   "outputs": [
    {
     "data": {
      "text/plain": [
       "0.3196274819891056"
      ]
     },
     "execution_count": 94,
     "metadata": {},
     "output_type": "execute_result"
    }
   ],
   "source": [
    "34561.0/108129.0"
   ]
  },
  {
   "cell_type": "code",
   "execution_count": null,
   "metadata": {
    "collapsed": true
   },
   "outputs": [],
   "source": []
  }
 ],
 "metadata": {
  "kernelspec": {
   "display_name": "Python 2",
   "language": "python",
   "name": "python2"
  },
  "language_info": {
   "codemirror_mode": {
    "name": "ipython",
    "version": 2
   },
   "file_extension": ".py",
   "mimetype": "text/x-python",
   "name": "python",
   "nbconvert_exporter": "python",
   "pygments_lexer": "ipython2",
   "version": "2.7.12"
  }
 },
 "nbformat": 4,
 "nbformat_minor": 2
}
